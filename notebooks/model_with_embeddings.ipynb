{
 "cells": [
  {
   "cell_type": "code",
   "execution_count": 1,
   "metadata": {},
   "outputs": [],
   "source": [
    "import os\n",
    "import pandas as pd\n",
    "import numpy as np"
   ]
  },
  {
   "cell_type": "code",
   "execution_count": 2,
   "metadata": {},
   "outputs": [],
   "source": [
    "train_file = r\"/home/harshad/work2/evolent_p/data/EvolentGenAICaseData/train.dat\"\n",
    "df = pd.read_csv(train_file, delimiter=\"\\t\",names=[\"lables\",\"text\"])"
   ]
  },
  {
   "cell_type": "markdown",
   "metadata": {},
   "source": [
    "\n",
    "1-\tdigestive system diseases \n",
    "\n",
    "2-\tcardiovascular diseases \n",
    "\n",
    "3-\tneoplasms\n",
    "\n",
    "4-\tnervous system diseases\n",
    "\n",
    "5-\tgeneral pathological conditions"
   ]
  },
  {
   "cell_type": "code",
   "execution_count": 3,
   "metadata": {},
   "outputs": [],
   "source": [
    "disease_categories = {\n",
    "    1: \"digestive system diseases\",\n",
    "    2: \"cardiovascular diseases\",\n",
    "    3: \"neoplasms\",\n",
    "    4: \"nervous system diseases\",\n",
    "    5: \"general pathological conditions\"\n",
    "}\n"
   ]
  },
  {
   "cell_type": "code",
   "execution_count": 13,
   "metadata": {},
   "outputs": [
    {
     "data": {
      "text/plain": [
       "lables\n",
       "5    4805\n",
       "1    3163\n",
       "4    3051\n",
       "3    1925\n",
       "2    1494\n",
       "Name: count, dtype: int64"
      ]
     },
     "execution_count": 13,
     "metadata": {},
     "output_type": "execute_result"
    }
   ],
   "source": [
    "#check class ditribution\n",
    "df['lables'].value_counts()\n",
    "\n",
    "#apparently there isn't much class imbalance present here"
   ]
  },
  {
   "cell_type": "code",
   "execution_count": 8,
   "metadata": {},
   "outputs": [],
   "source": [
    "from embedding_utility import create_embeddings"
   ]
  },
  {
   "cell_type": "code",
   "execution_count": 15,
   "metadata": {},
   "outputs": [],
   "source": [
    "# Create embeddings from the text abstracts\n",
    "\n",
    "\n",
    "#  df['ada_embedding'] = df.text.apply(lambda x: create_embeddings(x))"
   ]
  },
  {
   "cell_type": "code",
   "execution_count": 4,
   "metadata": {},
   "outputs": [],
   "source": [
    "#save df to data folder\n",
    "# df.to_csv(\"../data/text_with_exb.csv\",index=False)\n",
    "# df.to_parquet('../data/text_with_emb.parquet', index=False)"
   ]
  },
  {
   "cell_type": "code",
   "execution_count": 20,
   "metadata": {},
   "outputs": [],
   "source": []
  },
  {
   "cell_type": "code",
   "execution_count": null,
   "metadata": {},
   "outputs": [],
   "source": [
    "#loading the df with embeddings here\n",
    "df = pd.read_parquet('../data/text_with_emb.parquet')"
   ]
  },
  {
   "cell_type": "code",
   "execution_count": 26,
   "metadata": {},
   "outputs": [
    {
     "data": {
      "text/html": [
       "<div>\n",
       "<style scoped>\n",
       "    .dataframe tbody tr th:only-of-type {\n",
       "        vertical-align: middle;\n",
       "    }\n",
       "\n",
       "    .dataframe tbody tr th {\n",
       "        vertical-align: top;\n",
       "    }\n",
       "\n",
       "    .dataframe thead th {\n",
       "        text-align: right;\n",
       "    }\n",
       "</style>\n",
       "<table border=\"1\" class=\"dataframe\">\n",
       "  <thead>\n",
       "    <tr style=\"text-align: right;\">\n",
       "      <th></th>\n",
       "      <th>lables</th>\n",
       "      <th>text</th>\n",
       "      <th>ada_embedding</th>\n",
       "    </tr>\n",
       "  </thead>\n",
       "  <tbody>\n",
       "    <tr>\n",
       "      <th>0</th>\n",
       "      <td>4</td>\n",
       "      <td>Catheterization laboratory events and hospital...</td>\n",
       "      <td>[-0.026719100773334503, 0.02385064773261547, 0...</td>\n",
       "    </tr>\n",
       "    <tr>\n",
       "      <th>1</th>\n",
       "      <td>5</td>\n",
       "      <td>Renal abscess in children. Three cases of rena...</td>\n",
       "      <td>[0.027058463543653488, 0.023977680131793022, 0...</td>\n",
       "    </tr>\n",
       "    <tr>\n",
       "      <th>2</th>\n",
       "      <td>2</td>\n",
       "      <td>Hyperplastic polyps seen at sigmoidoscopy are ...</td>\n",
       "      <td>[0.0003011369553860277, 0.023757871240377426, ...</td>\n",
       "    </tr>\n",
       "    <tr>\n",
       "      <th>3</th>\n",
       "      <td>5</td>\n",
       "      <td>Subclavian artery to innominate vein fistula a...</td>\n",
       "      <td>[-0.010424126870930195, 0.008352413773536682, ...</td>\n",
       "    </tr>\n",
       "    <tr>\n",
       "      <th>4</th>\n",
       "      <td>4</td>\n",
       "      <td>Effect of local inhibition of gamma-aminobutyr...</td>\n",
       "      <td>[-0.03385312110185623, 0.017520243301987648, 0...</td>\n",
       "    </tr>\n",
       "  </tbody>\n",
       "</table>\n",
       "</div>"
      ],
      "text/plain": [
       "   lables                                               text  \\\n",
       "0       4  Catheterization laboratory events and hospital...   \n",
       "1       5  Renal abscess in children. Three cases of rena...   \n",
       "2       2  Hyperplastic polyps seen at sigmoidoscopy are ...   \n",
       "3       5  Subclavian artery to innominate vein fistula a...   \n",
       "4       4  Effect of local inhibition of gamma-aminobutyr...   \n",
       "\n",
       "                                       ada_embedding  \n",
       "0  [-0.026719100773334503, 0.02385064773261547, 0...  \n",
       "1  [0.027058463543653488, 0.023977680131793022, 0...  \n",
       "2  [0.0003011369553860277, 0.023757871240377426, ...  \n",
       "3  [-0.010424126870930195, 0.008352413773536682, ...  \n",
       "4  [-0.03385312110185623, 0.017520243301987648, 0...  "
      ]
     },
     "execution_count": 26,
     "metadata": {},
     "output_type": "execute_result"
    }
   ],
   "source": [
    "df.head()"
   ]
  },
  {
   "cell_type": "markdown",
   "metadata": {},
   "source": [
    "#Building classification model using embeddings"
   ]
  },
  {
   "cell_type": "code",
   "execution_count": 29,
   "metadata": {},
   "outputs": [],
   "source": [
    "from sklearn.ensemble import RandomForestClassifier\n",
    "from sklearn.model_selection import train_test_split\n",
    "from sklearn.metrics import classification_report, accuracy_score\n",
    "\n",
    "from sklearn.metrics import confusion_matrix as cm"
   ]
  },
  {
   "cell_type": "code",
   "execution_count": 27,
   "metadata": {},
   "outputs": [],
   "source": [
    "# split data into train and test\n",
    "X_train, X_test, y_train, y_test = train_test_split(\n",
    "    list(df.ada_embedding.values), df.lables, test_size=0.2, random_state=42\n",
    ")\n"
   ]
  },
  {
   "cell_type": "code",
   "execution_count": 28,
   "metadata": {},
   "outputs": [
    {
     "name": "stdout",
     "output_type": "stream",
     "text": [
      "              precision    recall  f1-score   support\n",
      "\n",
      "           1       0.63      0.60      0.62       647\n",
      "           2       0.25      0.14      0.18       315\n",
      "           3       0.35      0.22      0.27       370\n",
      "           4       0.59      0.57      0.58       621\n",
      "           5       0.35      0.48      0.40       935\n",
      "\n",
      "    accuracy                           0.45      2888\n",
      "   macro avg       0.43      0.40      0.41      2888\n",
      "weighted avg       0.45      0.45      0.45      2888\n",
      "\n"
     ]
    }
   ],
   "source": [
    "# train random forest classifier\n",
    "clf = RandomForestClassifier(n_estimators=100)\n",
    "clf.fit(X_train, y_train)\n",
    "preds = clf.predict(X_test)\n",
    "probas = clf.predict_proba(X_test)\n",
    "\n",
    "report = classification_report(y_test, preds)\n",
    "print(report)"
   ]
  },
  {
   "cell_type": "markdown",
   "metadata": {},
   "source": [
    "### Model is not doing so well here\n",
    "\n",
    "so training model on embeddings isn't a good solution"
   ]
  },
  {
   "cell_type": "code",
   "execution_count": 31,
   "metadata": {},
   "outputs": [
    {
     "data": {
      "text/plain": [
       "array([[390,  32,  23,  17, 185],\n",
       "       [ 37,  45,   9,  12, 212],\n",
       "       [ 38,   4,  80,  47, 201],\n",
       "       [ 18,   7,  25, 351, 220],\n",
       "       [137,  90,  91, 172, 445]])"
      ]
     },
     "execution_count": 31,
     "metadata": {},
     "output_type": "execute_result"
    }
   ],
   "source": [
    "cm(y_test,preds)"
   ]
  },
  {
   "cell_type": "markdown",
   "metadata": {},
   "source": []
  },
  {
   "cell_type": "code",
   "execution_count": 1,
   "metadata": {},
   "outputs": [],
   "source": [
    "disease_categories = {\n",
    "    1: \"digestive system diseases\",\n",
    "    2: \"cardiovascular diseases\",\n",
    "    3: \"neoplasms\",\n",
    "    4: \"nervous system diseases\",\n",
    "    5: \"general pathological conditions\"\n",
    "}"
   ]
  },
  {
   "cell_type": "code",
   "execution_count": 2,
   "metadata": {},
   "outputs": [],
   "source": [
    "# out = {}\n",
    "# for k,v in disease_categories.items():\n",
    "#     out[v] = k\n"
   ]
  }
 ],
 "metadata": {
  "kernelspec": {
   "display_name": "env_3.10",
   "language": "python",
   "name": "python3"
  },
  "language_info": {
   "codemirror_mode": {
    "name": "ipython",
    "version": 3
   },
   "file_extension": ".py",
   "mimetype": "text/x-python",
   "name": "python",
   "nbconvert_exporter": "python",
   "pygments_lexer": "ipython3",
   "version": "3.10.6"
  }
 },
 "nbformat": 4,
 "nbformat_minor": 2
}
